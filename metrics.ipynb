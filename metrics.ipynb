{
 "cells": [
  {
   "cell_type": "code",
   "execution_count": 12,
   "metadata": {
    "pycharm": {
     "is_executing": true
    }
   },
   "outputs": [],
   "source": [
    "import cv2 as cv\n",
    "import seaborn as sns\n",
    "import numpy as np\n",
    "import matplotlib.pyplot as plt\n",
    "import pandas as pd\n",
    "from sklearn.metrics import confusion_matrix\n",
    "\n",
    "from src.GeneticPacking import GeneticPacking\n",
    "from src.ItemSelector import ItemSelector\n",
    "from src.Utils import get_centroid"
   ]
  },
  {
   "cell_type": "markdown",
   "metadata": {},
   "source": [
    "Проверим работу алгоритма на датабанке, за исключением семплов 28,29 (из \"испорченных\")."
   ]
  },
  {
   "cell_type": "code",
   "execution_count": 6,
   "metadata": {},
   "outputs": [],
   "source": [
    "true_values = [True, True, False, True, True,\n",
    "                   True, True, False, True, True,\n",
    "                   False, True, False, True, True,\n",
    "                   True, True, False, True, True,\n",
    "                   False, True, False, False, True,\n",
    "                   True, True, False, False, True,\n",
    "                   False, True, False, True, False,\n",
    "                   True, False, True, True, False,\n",
    "                   True, True, False, True\n",
    "                  ]"
   ]
  },
  {
   "cell_type": "code",
   "execution_count": 7,
   "metadata": {},
   "outputs": [],
   "source": [
    "def display_confusion_matrix(cf_matrix):\n",
    "    group_names = ['True 1', 'False 2', 'False 1', 'True 2']\n",
    "    group_counts = [\"{0:0.0f}\".format(value) for value in\n",
    "                    cf_matrix.flatten()]\n",
    "    group_percentages = [\"{0:.2%}\".format(value) for value in\n",
    "                         cf_matrix.flatten() / np.sum(cf_matrix)]\n",
    "    labels = [f\"{v1}\\n{v2}\\n{v3}\" for v1, v2, v3 in\n",
    "              zip(group_names, group_counts, group_percentages)]\n",
    "    labels = np.asarray(labels).reshape(2, 2)\n",
    "\n",
    "    hmap = sns.heatmap(cf_matrix, annot=labels, fmt='', cmap='OrRd')\n",
    "    lbs = [1, 2]\n",
    "    plt.show()\n",
    "\n",
    "\n",
    "def calculate_metrics(cf_matrix):\n",
    "    TN = cf_matrix[0][0]\n",
    "    FN = cf_matrix[1][0]\n",
    "    TP = cf_matrix[1][1]\n",
    "    FP = cf_matrix[0][1]\n",
    "    A = (TN + TP) / (TN + TP + FN + FP)\n",
    "    P = TP / (TP + FP)\n",
    "    R = TP / (TP + FN)\n",
    "    # F1 = 2 * P * R / (P + R)\n",
    "    df = pd.DataFrame(dict(metrics=['Accuracy', 'Precision', 'Recall'],\n",
    "                           value=[A, P, R]))\n",
    "    return df"
   ]
  },
  {
   "cell_type": "code",
   "execution_count": null,
   "metadata": {},
   "outputs": [],
   "source": [
    "rng = [range(1, 28), range(30, 47)]\n",
    "predict = []\n",
    "for i in rng:\n",
    "    for j in i:\n",
    "        print(j)\n",
    "        img = cv.imread('tests/'+str(j)+'.jpg')\n",
    "        selector = ItemSelector(work_size=(608, 608), min_area=400)\n",
    "        obj_contours, poly_countour = selector.select(img)\n",
    "        packing = GeneticPacking(poly_countour)\n",
    "        predict.append(packing.pack(obj_contours))\n"
   ]
  },
  {
   "cell_type": "code",
   "execution_count": 14,
   "metadata": {},
   "outputs": [
    {
     "name": "stdout",
     "output_type": "stream",
     "text": [
      "     metrics     value\n",
      "0   Accuracy  0.636364\n",
      "1  Precision  0.428571\n",
      "2     Recall  1.000000\n"
     ]
    },
    {
     "data": {
      "image/png": "[encoded data removed]",
      "text/plain": [
       "<Figure size 432x288 with 2 Axes>"
      ]
     },
     "metadata": {
      "needs_background": "light"
     },
     "output_type": "display_data"
    }
   ],
   "source": [
    "cm = confusion_matrix(predict, true_values)\n",
    "print(calculate_metrics(cm))\n",
    "display_confusion_matrix(cm)"
   ]
  },
  {
   "cell_type": "markdown",
   "metadata": {},
   "source": [
    "Отметим, что заданная конфигурация алгоритма полностью отсеивает ложноположительный результат, что может стать значительным преимуществом для использования его в ряде задач.\n",
    "Дальнейшее улучшение алгоритма может быть связано с введением новых эвристик, в частности, в рамках построения популяций в генетическом алгоритме."
   ]
  }
 ],
 "metadata": {
  "kernelspec": {
   "display_name": "Python 3 (ipykernel)",
   "language": "python",
   "name": "python3"
  },
  "language_info": {
   "codemirror_mode": {
    "name": "ipython",
    "version": 3
   },
   "file_extension": ".py",
   "mimetype": "text/x-python",
   "name": "python",
   "nbconvert_exporter": "python",
   "pygments_lexer": "ipython3",
   "version": "3.9.1"
  }
 },
 "nbformat": 4,
 "nbformat_minor": 1
}